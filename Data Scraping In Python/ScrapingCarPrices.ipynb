{
 "cells": [
  {
   "cell_type": "code",
   "execution_count": 1,
   "metadata": {},
   "outputs": [],
   "source": [
    "import requests\n",
    "from bs4 import BeautifulSoup as soup\n",
    "from urllib.request import urlopen as uReq\n",
    "from urllib.parse import urljoin"
   ]
  },
  {
   "cell_type": "code",
   "execution_count": 2,
   "metadata": {},
   "outputs": [],
   "source": [
    "base_url=\"https://www.kbb.com\"\n",
    "year= '2018'\n",
    "make= [\"ford\", \"honda\", \"hyundai\", \"toyota\"]\n",
    "model= [\"escape\", \"crv\", \"santafe\", \"rav4\"]"
   ]
  },
  {
   "cell_type": "code",
   "execution_count": 3,
   "metadata": {},
   "outputs": [],
   "source": [
    "with open('available_cars.csv', 'w') as fp:\n",
    "\theaders = \"car_title, car_price, car_monthly, car_interior, car_exterior, car_mileage, car_engine\\n\"\n",
    "\tfp.write(headers)\n",
    "\tfor x in range(0, 4):\n",
    "\t\trelative_url=\"/cars-for-sale/cars/?p=1&year={}&distance=50&atcmakecode={}&searchtype=new&atcmodelcode={}&nr=100&s=kbbrank\".format(year,make[x],model[x])\n",
    "\t\tabsolute_url=urljoin(base_url,relative_url)\n",
    "\t\tr=requests.get(absolute_url)\n",
    "\t\traw_html=r.content\n",
    "\t\t\n",
    "\t\tuClient =uReq(absolute_url)\n",
    "\t\tlist_page_html = uClient.read()\n",
    "\t\tuClient.close()\n",
    "\n",
    "\t\tlist_page_soup = soup(list_page_html, \"html.parser\")\n",
    "\t\tcars = list_page_soup.findAll(\"div\", {\"class\":\"listing js-new-listing\"})"
   ]
  },
  {
   "cell_type": "code",
   "execution_count": 4,
   "metadata": {},
   "outputs": [
    {
     "ename": "IndexError",
     "evalue": "list index out of range",
     "output_type": "error",
     "traceback": [
      "\u001b[1;31m---------------------------------------------------------------------------\u001b[0m",
      "\u001b[1;31mIndexError\u001b[0m                                Traceback (most recent call last)",
      "\u001b[1;32m<ipython-input-4-1c5962d93d01>\u001b[0m in \u001b[0;36m<module>\u001b[1;34m\u001b[0m\n\u001b[0;32m     19\u001b[0m                         \u001b[0mcar_title\u001b[0m\u001b[1;33m=\u001b[0m \u001b[0mcar\u001b[0m\u001b[1;33m.\u001b[0m\u001b[0mdiv\u001b[0m\u001b[1;33m.\u001b[0m\u001b[0ma\u001b[0m\u001b[1;33m[\u001b[0m\u001b[1;34m\"title\"\u001b[0m\u001b[1;33m]\u001b[0m\u001b[1;33m\u001b[0m\u001b[1;33m\u001b[0m\u001b[0m\n\u001b[0;32m     20\u001b[0m                         \u001b[0mprice_container\u001b[0m\u001b[1;33m=\u001b[0m \u001b[0mcar\u001b[0m\u001b[1;33m.\u001b[0m\u001b[0mfindAll\u001b[0m\u001b[1;33m(\u001b[0m\u001b[1;34m\"span\"\u001b[0m\u001b[1;33m,\u001b[0m \u001b[1;33m{\u001b[0m\u001b[1;34m\"class\"\u001b[0m\u001b[1;33m:\u001b[0m\u001b[1;34m\"title-four highlight\"\u001b[0m\u001b[1;33m}\u001b[0m\u001b[1;33m)\u001b[0m\u001b[1;33m\u001b[0m\u001b[1;33m\u001b[0m\u001b[0m\n\u001b[1;32m---> 21\u001b[1;33m                         \u001b[0mcar_price\u001b[0m\u001b[1;33m=\u001b[0m\u001b[0mprice_container\u001b[0m\u001b[1;33m[\u001b[0m\u001b[1;36m0\u001b[0m\u001b[1;33m]\u001b[0m\u001b[1;33m.\u001b[0m\u001b[0mtext\u001b[0m\u001b[1;33m.\u001b[0m\u001b[0mstrip\u001b[0m\u001b[1;33m(\u001b[0m\u001b[1;33m)\u001b[0m\u001b[1;33m\u001b[0m\u001b[1;33m\u001b[0m\u001b[0m\n\u001b[0m\u001b[0;32m     22\u001b[0m                         \u001b[0mmonthly_container\u001b[0m\u001b[1;33m=\u001b[0m\u001b[0mcar\u001b[0m\u001b[1;33m.\u001b[0m\u001b[0mfindAll\u001b[0m\u001b[1;33m(\u001b[0m\u001b[1;34m'strong'\u001b[0m\u001b[1;33m,\u001b[0m \u001b[1;33m{\u001b[0m\u001b[1;34m'class'\u001b[0m\u001b[1;33m:\u001b[0m \u001b[1;34m'title-three'\u001b[0m\u001b[1;33m}\u001b[0m\u001b[1;33m)\u001b[0m\u001b[1;33m\u001b[0m\u001b[1;33m\u001b[0m\u001b[0m\n\u001b[0;32m     23\u001b[0m                         \u001b[0mcar_monthly\u001b[0m\u001b[1;33m=\u001b[0m\u001b[0mmonthly_container\u001b[0m\u001b[1;33m[\u001b[0m\u001b[1;36m0\u001b[0m\u001b[1;33m]\u001b[0m\u001b[1;33m.\u001b[0m\u001b[0mtext\u001b[0m \u001b[1;32mif\u001b[0m \u001b[0mmonthly_container\u001b[0m \u001b[1;32melse\u001b[0m \u001b[1;34m\"NA\"\u001b[0m\u001b[1;33m\u001b[0m\u001b[1;33m\u001b[0m\u001b[0m\n",
      "\u001b[1;31mIndexError\u001b[0m: list index out of range"
     ]
    }
   ],
   "source": [
    "with open('available_cars.csv', 'w') as fp:\n",
    "\theaders = \"car_title, car_price, car_monthly, car_interior, car_exterior, car_mileage, car_engine\\n\"\n",
    "\tfp.write(headers)\n",
    "\tfor x in range(0, 4):\n",
    "\t\trelative_url=\"/cars-for-sale/cars/?p=1&year={}&distance=50&atcmakecode={}&searchtype=new&atcmodelcode={}&nr=100&s=kbbrank\".format(year,make[x],model[x])\n",
    "\t\tabsolute_url=urljoin(base_url,relative_url)\n",
    "\t\tr=requests.get(absolute_url)\n",
    "\t\traw_html=r.content\n",
    "\t\t\n",
    "\t\tuClient =uReq(absolute_url)\n",
    "\t\tlist_page_html = uClient.read()\n",
    "\t\tuClient.close()\n",
    "\n",
    "\t\tlist_page_soup = soup(list_page_html, \"html.parser\")\n",
    "\t\tcars = list_page_soup.findAll(\"div\", {\"class\":\"listing js-new-listing\"})\n",
    "\n",
    "\t\t\n",
    "\t\tfor car in cars:\n",
    "\t\t\tcar_title= car.div.a[\"title\"]\n",
    "\t\t\tprice_container= car.findAll(\"span\", {\"class\":\"title-four highlight\"})\n",
    "\t\t\tcar_price=price_container[0].text.strip()\n",
    "\t\t\tmonthly_container=car.findAll('strong', {'class': 'title-three'})\n",
    "\t\t\tcar_monthly=monthly_container[0].text if monthly_container else \"NA\"\n",
    "\t\t\tcar_link=car.div.a[\"href\"]\n",
    "\t\t\tcar_absolute_link=urljoin(base_url,car_link)\n",
    "\t\t\t\n",
    "\t\t\tuClient1 =uReq(car_absolute_link)\n",
    "\t\t\tpage_html = uClient1.read()\n",
    "\t\t\tuClient1.close()\n",
    "\t\t\tcar_page_soup = soup(page_html, \"html.parser\")\n",
    "\t\t\tdetails_list=car_page_soup.findAll(\"li\", {\"class\":\"js-mileage\"})\n",
    "\t\t\n",
    "\t\t\tcar_details = car_page_soup.findAll(\"div\", {\"class\":\"details-list\"})[0].findAll('li')\n",
    "\t\t\tfor item in car_details:\n",
    "\t\t\t\tif \"Mileage:\" in item.text:\n",
    "\t\t\t\t\tcar_mileage=item.text.split(':')[1]\n",
    "\t\t\t\tif \"Interior Color:\" in item.text:\n",
    "\t\t\t\t\tcar_interior=item.text.split(':')[1]\n",
    "\t\t\t\tif \"Exterior Color:\" in item.text:\n",
    "\t\t\t\t\tcar_exterior=item.text.split(':')[1]\n",
    "\t\t\t\tif \"Engine:\" in item.text:\t\n",
    "\t\t\t\t\tcar_engine=item.text.split(':')[1]\n",
    "\n",
    "\t\t\t#car_engine=car_page_soup.findAll(\"div\", {\"class\":\"details-list\"})[0].findAll('li')[3].text.strip('Engine: ')\n",
    "\t\t\tfp.write(car_title +\",\"+ car_price.replace(\",\", \"\")+ \",\"+ car_monthly +\",\"+ car_interior+\",\"+car_exterior+\",\"+car_mileage.replace(\",\", \"\")+\",\"+car_engine+\"\\n\")\n",
    "print(car_title+\",\"+car_price.replace(\",\", \"\")+\",\"+car_monthly+\",\"+ car_interior+\",\"+car_exterior+\",\"+car_mileage+\",\"+car_engine+\"\\n\")\n",
    "fp.close()"
   ]
  }
 ],
 "metadata": {
  "kernelspec": {
   "display_name": "Python 3",
   "language": "python",
   "name": "python3"
  },
  "language_info": {
   "codemirror_mode": {
    "name": "ipython",
    "version": 3
   },
   "file_extension": ".py",
   "mimetype": "text/x-python",
   "name": "python",
   "nbconvert_exporter": "python",
   "pygments_lexer": "ipython3",
   "version": "3.7.1"
  }
 },
 "nbformat": 4,
 "nbformat_minor": 2
}
